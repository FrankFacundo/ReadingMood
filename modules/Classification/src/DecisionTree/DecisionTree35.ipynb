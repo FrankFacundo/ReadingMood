{
 "cells": [
  {
   "cell_type": "code",
   "execution_count": 2,
   "metadata": {
    "collapsed": true
   },
   "outputs": [],
   "source": [
    "### CREATION DES ECHANTILLONS DE REFERENCE\n",
    "\n",
    "import time as cl\n",
    "import random as rd\n",
    "import numpy as np\n",
    "import pickle\n",
    "\n",
    "def GenPermutation(n):  # Création d'une permutation de [0,1,2, ..., n-1]\n",
    "    L1 = list(range(n))\n",
    "    L = []\n",
    "    m = n\n",
    "    for k in range(n):\n",
    "        nouv = rd.randint(0,m-1)\n",
    "        m -= 1\n",
    "        L.append(L1.pop(nouv))\n",
    "    return L\n",
    "    \n",
    "\n",
    "def PartitionHomogene(X,ident,p):   \n",
    "# Utiliser la fonction VectorisationAmb pour avoir X et ident\n",
    "    deb = 0\n",
    "    nX = []\n",
    "    nY = []\n",
    "    nXn = []\n",
    "    nYn = []\n",
    "    n = 0\n",
    "    for couple in ident:\n",
    "        nbTextes = couple[1]\n",
    "        TailleSample = int(nbTextes * p)\n",
    "        L = GenPermutation(nbTextes)\n",
    "        \n",
    "        for k in range(TailleSample):\n",
    "            nX.append(X[ deb+L[k] ])\n",
    "            nY.append(n)\n",
    "        \n",
    "        \n",
    "        for k in range(TailleSample,nbTextes):\n",
    "            nXn.append(X[ deb + L[k] ])\n",
    "            nYn.append(n)\n",
    "        \n",
    "        deb += nbTextes\n",
    "        n+=1\n",
    "    return nX, nY, nXn, nYn\n",
    "    \n",
    "    \n",
    "def GenEchantillons(n,p,Xt,ident):\n",
    "    Xtot = []        \n",
    "    c1=cl.clock()\n",
    "    \n",
    "    for k in range(n):\n",
    "        nX,nY,nXn,nYn = PartitionHomogene(Xt,ident,p)\n",
    "        Xtot.append((nX,nY,nXn,nYn))\n",
    "    c2=cl.clock()\n",
    "    print(c2-c1)\n",
    "        \n",
    "    return Xtot\n",
    "    \n",
    "def GenGamme(n,pas):\n",
    "    Interv = np.linspace(0,1,pas)\n",
    "\n",
    "    Banque=[]\n",
    "      \n",
    "    response = VectorisationAmb()\n",
    "    Vec,ident = response\n",
    "    X = []\n",
    "    for vec in Vec:\n",
    "        X.append(list(vec))\n",
    "    Y = []\n",
    "\n",
    "    for k in range(len(ident)):\n",
    "        for i in range(ident[k][1]):\n",
    "            Y.append(k)\n",
    "    dim = 30\n",
    "    Xt,pca = ReductionDim(X,dim)\n",
    "    xt = []\n",
    "    for a in Xt:\n",
    "        xt.append(list(a))\n",
    "    Xt = xt\n",
    "    \n",
    "    for p in Interv[1:(pas-1)]:\n",
    "        Banque.append(GenEchantillons(n,p,Xt,ident))\n",
    "    \n",
    "    \n",
    "    return Banque\n",
    "        \n",
    "\n",
    "##Banque = GenGamme(20,11)\n",
    "\n",
    "\n",
    "def moyenne(X):\n",
    "    n = len(X)\n",
    "    tot = 0\n",
    "    for x in X:\n",
    "        tot+=x\n",
    "    moy = tot/n\n",
    "    variance = 0\n",
    "    for x in X:\n",
    "        elem = (moy-x)**2\n",
    "        variance += elem/n\n",
    "    ecartType = variance*(1/2)\n",
    "    incertitude = ecartType/(n**(1/2))\n",
    "    return moy,incertitude\n",
    "    \n",
    "    \n",
    "\n",
    "    \n",
    "# Extraction d'un fichier binaire\n",
    "def readbinary(adresse):\n",
    "        \n",
    "    with open(adresse, \"rb\") as file:\n",
    "        s = file.read()\n",
    "    return s\n",
    "    \n",
    "def register(Banque,direction):\n",
    "    serialBanque = pickle.dumps(Banque)\n",
    "    \n",
    "    \n",
    "    fichiertxt = open(direction,mode=\"xb\")\n",
    "    fichiertxt.write(serialBanque)\n",
    "    fichiertxt.close()\n",
    "\n",
    "def recuperation(direction):\n",
    "    c1 = cl.clock()\n",
    "\n",
    "    serial_Banque= readbinary(direction)\n",
    "    \n",
    "    Banque= pickle.loads(serial_Banque)\n",
    "    c2 = cl.clock()\n",
    "    print(c2-c1)\n",
    "    return Banque\n",
    "\n",
    "\n",
    "##Banque = recuperation(\"Banque\")\n"
   ]
  },
  {
   "cell_type": "code",
   "execution_count": 3,
   "metadata": {},
   "outputs": [
    {
     "name": "stdout",
     "output_type": "stream",
     "text": [
      "0.001882999999999857\n"
     ]
    }
   ],
   "source": [
    "DecisionTreeRes = recuperation(\"/Users/NAIT/classification/pact35/modules/Classification/src/DecisionTree/Résultats/DecisionTree\")"
   ]
  },
  {
   "cell_type": "code",
   "execution_count": 4,
   "metadata": {
    "collapsed": true
   },
   "outputs": [],
   "source": [
    "from sklearn import tree\n",
    "\n",
    "def entraineDecisionTree(nX,nY):\n",
    "    model = tree.DecisionTreeClassifier()\n",
    "    model.fit(nX,nY)\n",
    "    return model\n",
    "\n",
    "\n",
    "def testDecisionTree(nX, nY, nXn, nYn):\n",
    "    #nX et nY les parties d'entraînement\n",
    "    #nXn et nYn les parties de test\n",
    "    model = tree.DecisionTreeClassifier()\n",
    "    model.fit(nX,nY)\n",
    "    n = len(nXn)\n",
    "    if n == 0:\n",
    "        return -1\n",
    "    goal = 0\n",
    "    failure = 0\n",
    "    \n",
    "    for k in range(n):\n",
    "        prediction = model.predict([nXn[k]])\n",
    "        if prediction[0] == nYn[k]:\n",
    "            goal+=1\n",
    "        else:\n",
    "            failure +=1\n",
    "    return goal/n\n",
    "\n",
    "    \n",
    "def efficDecisionTree(Banque):\n",
    "    P = np.linspace(0,1,11)\n",
    "    P = P[1:10]    # On enlève les cas triviaux 0 et 1\n",
    "    res = []\n",
    "    OrdonneeP = []\n",
    "    for i in range(len(P)):\n",
    "        c1 = cl.clock()\n",
    "        EnsemblePartitionP = Banque[i]\n",
    "        p =P[i]\n",
    "        Z = []\n",
    "        \n",
    "        for (nX, nY, nXn, nYn) in EnsemblePartitionP:\n",
    "            zi = testDecisionTree(nX, nY, nXn, nYn)\n",
    "            Z.append(zi)\n",
    "        z,incertitude = moyenne(Z)\n",
    "        OrdonneeP.append((z,incertitude))\n",
    "        c2 = cl.clock()\n",
    "        print(\"Pour la proportion p = \", p , \", on met un temps de \", (c2-c1) ,\" secondes\")\n",
    "    return P,OrdonneeP\n",
    "\n",
    "\n",
    "##PTree=np.array([ 0.1,  0.2,  0.3,  0.4,  0.5,  0.6,  0.7,  0.8,  0.9])\n",
    "\n",
    "##OrdTree=[(0.1370941020543406, 8.478092134235595e-06), (0.1492921013412817, 5.737876298203677e-06), (0.15767758400680565, 4.703177661247316e-06), (0.15815972222222224, 5.087160613272052e-06), (0.1620453190220632, 6.805513986774755e-06), (0.16005192878338279, 9.2653994092179e-06), (0.15526057030481807, 4.398461455379801e-06), (0.16022058823529406, 6.104576801678846e-06), (0.15942857142857142, 4.797050322342406e-05)]\n"
   ]
  },
  {
   "cell_type": "markdown",
   "metadata": {},
   "source": [
    "### La fonction retourne une liste, notée NaiveBayesRes, qui est une liste de couples comportant le taux de réussite et un calcul d'incertitude; et ce pour chaque proportion p du DataTraining. À noter que ce classifieur ne nécessite pas de paramètre en entrée. "
   ]
  },
  {
   "cell_type": "code",
   "execution_count": 5,
   "metadata": {
    "collapsed": true
   },
   "outputs": [],
   "source": [
    "DecisionTreeRes = [(0.1370941020543406, 8.478092134235595e-06), (0.1492921013412817, 5.737876298203677e-06), (0.15767758400680565, 4.703177661247316e-06), (0.15815972222222224, 5.087160613272052e-06), (0.1620453190220632, 6.805513986774755e-06), (0.16005192878338279, 9.2653994092179e-06), (0.15526057030481807, 4.398461455379801e-06), (0.16022058823529406, 6.104576801678846e-06), (0.15942857142857142, 4.797050322342406e-05)]"
   ]
  },
  {
   "cell_type": "code",
   "execution_count": 6,
   "metadata": {},
   "outputs": [
    {
     "data": {
      "image/png": "[encoded data removed]",
      "text/plain": [
       "<matplotlib.figure.Figure at 0x10b109208>"
      ]
     },
     "metadata": {},
     "output_type": "display_data"
    }
   ],
   "source": [
    "import numpy as np\n",
    "import matplotlib.pyplot as plt\n",
    "\n",
    "x = np.array([ 0.1,  0.2,  0.3,  0.4,  0.5,  0.6,  0.7,  0.8,  0.9])\n",
    "y = np.array([DecisionTreeRes[i][0] for i in range(len(DecisionTreeRes))])\n",
    "\n",
    "\n",
    "plt.plot(x, y)\n",
    "plt.title(\"Taux de réussite r du classifieur DecisionTree en fonction de \\n la proportion de DataTraining p\")\n",
    "plt.xlabel(\"proportion de DataTraining p\")\n",
    "plt.ylabel(\"Taux de réussite r\")\n",
    "plt.savefig('CourbeDecisionTreethiz.png')\n",
    "plt.show() # affiche la figure a l'ecran\n"
   ]
  },
  {
   "cell_type": "markdown",
   "metadata": {},
   "source": [
    "## Détermination du maximum d'efficacité du DecisionTree et des paramètres associés"
   ]
  },
  {
   "cell_type": "code",
   "execution_count": 14,
   "metadata": {},
   "outputs": [
    {
     "name": "stdout",
     "output_type": "stream",
     "text": [
      "Efficacité maximale du classifieur par DecisionTree = 16.2045319022%\n",
      "obtenue pour une proportion de DataTraining p = 0.5\n"
     ]
    }
   ],
   "source": [
    "max = 0\n",
    "imax = 0\n",
    "k = 0\n",
    "for yi in y:\n",
    "    k+=1\n",
    "    if yi>max:\n",
    "        max = yi\n",
    "        imax = k\n",
    "print (\"Efficacité maximale du classifieur par DecisionTree = \" + str(max*100) + \"%\")\n",
    "print(\"obtenue pour une proportion de DataTraining p = \" + str(imax*0.1))"
   ]
  },
  {
   "cell_type": "markdown",
   "metadata": {},
   "source": [
    "## CONCLUSION : Éfficacité du classifieur DecisionTree maximale, de maximum 16.2% de réussite avec une proportion de DataTraining p= 0.5"
   ]
  },
  {
   "cell_type": "markdown",
   "metadata": {},
   "source": [
    "### NB : À noter qu'on considère être une réussite le fait de renvoyer exactement l'ambiance du texte. Les rapprochements d'ambiance ne sont pas pris en compte. Notamment, on ne pondère pas selon si la deuxième ambiance trouvée se rapproche de celle souhaitée."
   ]
  }
 ],
 "metadata": {
  "kernelspec": {
   "display_name": "Python 3",
   "language": "python",
   "name": "python3"
  },
  "language_info": {
   "codemirror_mode": {
    "name": "ipython",
    "version": 3
   },
   "file_extension": ".py",
   "mimetype": "text/x-python",
   "name": "python",
   "nbconvert_exporter": "python",
   "pygments_lexer": "ipython3",
   "version": "3.6.0"
  }
 },
 "nbformat": 4,
 "nbformat_minor": 2
}
