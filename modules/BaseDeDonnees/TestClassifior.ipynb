{
 "cells": [
  {
   "cell_type": "code",
   "execution_count": null,
   "metadata": {
    "collapsed": true
   },
   "outputs": [],
   "source": [
    "import os\n",
    "import time\n",
    "\n",
    "def testPrediction(testDataDirectory):\n",
    "    compteur = 0\n",
    "    nbText = 0\n",
    "    listAmbiance = ['Administration', 'Anger', 'Attic', 'Bathroom', 'Bedroom', 'Calm', 'Car', 'Castle', 'Cave', 'Cemetery', 'Church', 'Circus', 'Company', 'CountryTown', 'Desert', 'Fear', 'Field', 'Fight', 'Fog', 'Forest', 'Garden', 'Gunshot', 'Gym', 'Happy', 'Hospital', 'Industry', 'Jail', 'Kitchens', 'Library', 'LivingRoom', 'Love', 'Meadow', 'Mine', 'Mountain', 'Ocean', 'Plane', 'Rain', 'Sad', 'School', 'Snow', 'Sun', 'Thunder', 'TrainStation', 'Wind']\n",
    "    for ambiance in listAmbiance : \n",
    "        for element in os.listdir('/test/ambiance'):\n",
    "            nbText +=1\n",
    "            text = open(element)\n",
    "            if stringtoMood(text)==ambiance:\n",
    "                compteur +=1\n",
    "        return compteur*100/nbText\n",
    "\n",
    "def getTrainingTime():\n",
    "    c1 = cl.clock()\n",
    "    stringtoMood('')\n",
    "    c2 = cl.clock()\n",
    "    return c2-c1\n",
    "\n"
   ]
  }
 ],
 "metadata": {
  "kernelspec": {
   "display_name": "Python 3",
   "language": "python",
   "name": "python3"
  },
  "language_info": {
   "codemirror_mode": {
    "name": "ipython",
    "version": 3
   },
   "file_extension": ".py",
   "mimetype": "text/x-python",
   "name": "python",
   "nbconvert_exporter": "python",
   "pygments_lexer": "ipython3",
   "version": "3.6.0"
  }
 },
 "nbformat": 4,
 "nbformat_minor": 2
}
